{
 "cells": [
  {
   "cell_type": "markdown",
   "metadata": {},
   "source": [
    "# Video Segmentation using pyAudioAnalysis\n",
    "This is a note notebook implementing the audio segmentation function of \n",
    "pyAudioAnalysis to cut pauses and silence out of long videos."
   ]
  },
  {
   "cell_type": "code",
   "execution_count": 1,
   "metadata": {},
   "outputs": [],
   "source": [
    "from pyAudioAnalysis import audioSegmentation as aS\n",
    "from pathlib import Path\n",
    "import soundfile as sf\n",
    "import ipywidgets as widgets\n",
    "from IPython.display import display\n",
    "from ipyfilechooser import FileChooser"
   ]
  },
  {
   "source": [
    "Place your input video file into the `./inputs` folder and choose it using the filechooser."
   ],
   "cell_type": "markdown",
   "metadata": {}
  },
  {
   "cell_type": "code",
   "execution_count": 2,
   "metadata": {},
   "outputs": [
    {
     "output_type": "display_data",
     "data": {
      "text/plain": "FileChooser(path='input', filename='', title='HTML(value='', layout=Layout(display='none'))', show_hidden='Fal…",
      "application/vnd.jupyter.widget-view+json": {
       "version_major": 2,
       "version_minor": 0,
       "model_id": "08836201d4e241caa11d785fc89d0289"
      }
     },
     "metadata": {}
    }
   ],
   "source": [
    "input_path = Path(\"./input\")\n",
    "fc = FileChooser(str(input_path))\n",
    "display(fc)"
   ]
  },
  {
   "cell_type": "code",
   "execution_count": 3,
   "metadata": {},
   "outputs": [],
   "source": [
    "video_path = input_path / fc.selected_filename\n",
    "output_path = Path(\"./outputs/\") / video_path.stem\n",
    "if output_path.exists():\n",
    "    !rm -rf {output_path}\n",
    "output_path.mkdir(parents=True, exist_ok=True)"
   ]
  },
  {
   "cell_type": "markdown",
   "metadata": {},
   "source": [
    "First we must extract the audio from the input video. We do this using `ffmpeg` from the command line."
   ]
  },
  {
   "cell_type": "code",
   "execution_count": 20,
   "metadata": {
    "scrolled": true
   },
   "outputs": [],
   "source": [
    "audio_path = output_path / (video_path.stem + \".wav\")\n",
    "!ffmpeg -nostats -loglevel 0 -i {video_path} {audio_path} -y"
   ]
  },
  {
   "cell_type": "code",
   "execution_count": 5,
   "metadata": {},
   "outputs": [
    {
     "output_type": "stream",
     "name": "stdout",
     "text": [
      "Choose window size in ms\n"
     ]
    },
    {
     "output_type": "display_data",
     "data": {
      "text/plain": "FloatSlider(value=250.0, max=500.0, step=5.0)",
      "application/vnd.jupyter.widget-view+json": {
       "version_major": 2,
       "version_minor": 0,
       "model_id": "3feb0da7730a419e8f23d2d95bbaf191"
      }
     },
     "metadata": {}
    },
    {
     "output_type": "stream",
     "name": "stdout",
     "text": [
      "Choose step size in ms\n"
     ]
    },
    {
     "output_type": "display_data",
     "data": {
      "text/plain": "FloatSlider(value=2.9, max=5.0)",
      "application/vnd.jupyter.widget-view+json": {
       "version_major": 2,
       "version_minor": 0,
       "model_id": "80542e7f6c1b493fa9f55db3d5e68d35"
      }
     },
     "metadata": {}
    },
    {
     "output_type": "stream",
     "name": "stdout",
     "text": [
      "Choose strictness for silence removal. Higher -> more strict\n"
     ]
    },
    {
     "output_type": "display_data",
     "data": {
      "text/plain": "FloatSlider(value=0.5, max=1.0)",
      "application/vnd.jupyter.widget-view+json": {
       "version_major": 2,
       "version_minor": 0,
       "model_id": "87334e7be4dc404cbfda11c778778135"
      }
     },
     "metadata": {}
    }
   ],
   "source": [
    "print(\"Choose window size in ms\")\n",
    "window_slider = widgets.FloatSlider(min=0.0, max=500.0, step=5, value=250)\n",
    "display(window_slider)\n",
    "    \n",
    "print(\"Choose step size in ms\")\n",
    "step_slider = widgets.FloatSlider(min=0.0, max=5.0, step=0.1, value=2.9)\n",
    "display(step_slider)\n",
    "\n",
    "print(\"Choose strictness for silence removal. Higher -> more strict\")\n",
    "weight_slider = widgets.FloatSlider(min=0.0, max=1.0, step=0.1, value=0.5)\n",
    "display(weight_slider)"
   ]
  },
  {
   "cell_type": "code",
   "execution_count": 6,
   "metadata": {},
   "outputs": [],
   "source": [
    "window_size = window_slider.value / 1000\n",
    "step_size = step_slider.value / 1000\n",
    "weight = weight_slider.value\n",
    "\n",
    "data, fs = sf.read(audio_path)\n",
    "segment_limits = aS.silence_removal(data, fs, window_size, step_size)"
   ]
  },
  {
   "cell_type": "code",
   "execution_count": 7,
   "metadata": {},
   "outputs": [
    {
     "output_type": "stream",
     "name": "stdout",
     "text": [
      "Process audio into 175 segments.\nThis removed a total of 154.38 seconds from the original video.\n"
     ]
    }
   ],
   "source": [
    "print(f\"Process audio into {len(segment_limits)} segments.\")\n",
    "total_removed = segment_limits[-1][1] - sum([y - x for x,y in segment_limits])\n",
    "print(f\"This removed a total of {total_removed:.2f} seconds from the original video.\")"
   ]
  },
  {
   "cell_type": "code",
   "execution_count": 8,
   "metadata": {},
   "outputs": [],
   "source": [
    "import math\n",
    "def s_to_hms(seconds, as_string=False):\n",
    "    hours = math.floor(seconds / 3600)\n",
    "    minutes = math.floor(seconds % 3600 / 60)\n",
    "    s = seconds % 60\n",
    "    if not as_string:\n",
    "        return hours, minutes, s\n",
    "    else:\n",
    "        seconds_string = f\"{s:.2f}\" if s >= 10 else f\"0{s:.2f}\"\n",
    "        return f\"{hours:02}:{minutes:02}:{seconds_string}\""
   ]
  },
  {
   "cell_type": "code",
   "execution_count": 19,
   "metadata": {
    "collapsed": true,
    "jupyter": {
     "outputs_hidden": true
    },
    "tags": []
   },
   "outputs": [
    {
     "output_type": "stream",
     "name": "stderr",
     "text": [
      "Creating segments: 100%|██████████| 175/175 [10:17<00:00,  3.53s/it]\n"
     ]
    }
   ],
   "source": [
    "import subprocess\n",
    "from tqdm import tqdm\n",
    "\n",
    "for i, (start, end) in enumerate(tqdm(segment_limits, \"Creating segments\")):\n",
    "    !ffmpeg -nostats -loglevel 0 -i {video_path} \\\n",
    "        -ss {s_to_hms(start, as_string=True)} -to {s_to_hms(end, as_string=True)} \\\n",
    "        -c:v libx264 -c:a aac {output_path}/segment_{i}.mp4 -y"
   ]
  },
  {
   "cell_type": "code",
   "execution_count": 21,
   "metadata": {},
   "outputs": [
    {
     "output_type": "stream",
     "name": "stdout",
     "text": [
      "Concatenated segments to outputs/signale/full.mp4\n"
     ]
    }
   ],
   "source": [
    "segment_list = output_path / \"segment_list.txt\"\n",
    "!rm {segment_list}\n",
    "with open(segment_list, 'w+') as f:\n",
    "    f.writelines([f\"file 'segment_{i}.mp4'\\n\" for i in range(len(segment_limits))])\n",
    "!ffmpeg -nostats -loglevel 0 -f concat -safe 0 -i {segment_list} -c copy {output_path}/full.mp4 -y\n",
    "print(f\"Concatenated segments to {output_path}/full.mp4\")"
   ]
  },
  {
   "cell_type": "code",
   "execution_count": null,
   "metadata": {},
   "outputs": [],
   "source": []
  }
 ],
 "metadata": {
  "kernelspec": {
   "display_name": "Python 3",
   "language": "python",
   "name": "python3"
  },
  "language_info": {
   "codemirror_mode": {
    "name": "ipython",
    "version": 3
   },
   "file_extension": ".py",
   "mimetype": "text/x-python",
   "name": "python",
   "nbconvert_exporter": "python",
   "pygments_lexer": "ipython3",
   "version": "3.7.9-final"
  }
 },
 "nbformat": 4,
 "nbformat_minor": 4
}